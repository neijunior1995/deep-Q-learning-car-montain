{
 "cells": [
  {
   "cell_type": "code",
   "execution_count": 4,
   "id": "7eaee2e6",
   "metadata": {},
   "outputs": [],
   "source": [
    "import gym\n",
    "import matplotlib.pyplot as plt"
   ]
  },
  {
   "cell_type": "code",
   "execution_count": 5,
   "id": "aabf1083",
   "metadata": {},
   "outputs": [],
   "source": [
    "# AI for Autonomous Vehicles - Build a Self-Driving Car\n",
    "\n",
    "# Importing the libraries\n",
    "\n",
    "import os\n",
    "import random\n",
    "import torch\n",
    "import torch.nn as nn\n",
    "import torch.nn.functional as F\n",
    "import torch.optim as optim\n",
    "from torch.autograd import Variable\n",
    "\n",
    "# Creating the architecture of the Neural Network\n",
    "\n",
    "class Network(nn.Module):\n",
    "    \n",
    "    def __init__(self, input_size, nb_action):\n",
    "        super(Network, self).__init__()\n",
    "        self.input_size = input_size\n",
    "        self.nb_action = nb_action\n",
    "        self.fc1 = nn.Linear(input_size, 45)\n",
    "        self.fc2 = nn.Linear(45, nb_action)\n",
    "    \n",
    "    def forward(self, state):\n",
    "        x = F.relu(self.fc1(state))\n",
    "        q_values = self.fc2(x)\n",
    "        return q_values\n",
    "\n",
    "# Implementing Experience Replay\n",
    "\n",
    "class ReplayMemory(object):\n",
    "    \n",
    "    def __init__(self, capacity):\n",
    "        self.capacity = capacity\n",
    "        self.memory = []\n",
    "    \n",
    "    def push(self, event):\n",
    "        self.memory.append(event)\n",
    "        if len(self.memory) > self.capacity:\n",
    "            del self.memory[0]\n",
    "    \n",
    "    def sample(self, batch_size):\n",
    "        samples = zip(*random.sample(self.memory, batch_size))\n",
    "        return map(lambda x: Variable(torch.cat(x, 0)), samples)\n",
    "\n",
    "# Implementing Deep Q-Learning\n",
    "\n",
    "class Dqn(object):\n",
    "    \n",
    "    def __init__(self, input_size, nb_action, gamma):\n",
    "        self.gamma = gamma\n",
    "        self.model = Network(input_size, nb_action)\n",
    "        self.memory = ReplayMemory(capacity = 100000)\n",
    "        self.optimizer = optim.Adam(params = self.model.parameters())\n",
    "        self.last_state = torch.Tensor(input_size).unsqueeze(0)\n",
    "        self.last_action = 0\n",
    "        self.last_reward = 0\n",
    "    \n",
    "    def select_action(self, state):\n",
    "        probs = F.softmax(self.model(Variable(state))*100,dim=-1)\n",
    "        action = probs.multinomial(len(probs))\n",
    "        return action.item()\n",
    "    \n",
    "    def learn(self, batch_states, batch_actions, batch_rewards, batch_next_states):\n",
    "        batch_outputs = self.model(batch_states).gather(1, batch_actions.unsqueeze(1)).squeeze(1)\n",
    "        batch_next_outputs = self.model(batch_next_states).detach().max(1)[0]\n",
    "        batch_targets = batch_rewards + self.gamma * batch_next_outputs\n",
    "        td_loss = F.smooth_l1_loss(batch_outputs, batch_targets)\n",
    "        self.optimizer.zero_grad()\n",
    "        td_loss.backward()\n",
    "        self.optimizer.step()\n",
    "    \n",
    "    def update(self, new_state, new_reward):\n",
    "        new_state = torch.Tensor(new_state).float().unsqueeze(0)\n",
    "        self.memory.push((self.last_state, torch.LongTensor([int(self.last_action)]), torch.Tensor([self.last_reward]), new_state))\n",
    "        new_action = self.select_action(new_state)\n",
    "        if len(self.memory.memory) > 100:\n",
    "            batch_states, batch_actions, batch_rewards, batch_next_states = self.memory.sample(100)\n",
    "            self.learn(batch_states, batch_actions, batch_rewards, batch_next_states)\n",
    "        self.last_state = new_state\n",
    "        self.last_action = new_action\n",
    "        self.last_reward = new_reward\n",
    "        return new_action\n",
    "    \n",
    "    def save(self):\n",
    "        torch.save({'state_dict': self.model.state_dict(),\n",
    "                    'optimizer' : self.optimizer.state_dict(),\n",
    "                   }, 'last_brain.pth')\n",
    "    \n",
    "    def load(self):\n",
    "        if os.path.isfile('last_brain.pth'):\n",
    "            print(\"=> loading checkpoint... \")\n",
    "            checkpoint = torch.load('last_brain.pth')\n",
    "            self.model.load_state_dict(checkpoint['state_dict'])\n",
    "            self.optimizer.load_state_dict(checkpoint['optimizer'])\n",
    "            print(\"done !\")\n",
    "        else:\n",
    "            print(\"no checkpoint found...\")"
   ]
  },
  {
   "cell_type": "markdown",
   "id": "7074cd47",
   "metadata": {},
   "source": [
    "# Constantes"
   ]
  },
  {
   "cell_type": "code",
   "execution_count": 6,
   "id": "d6325c74",
   "metadata": {},
   "outputs": [],
   "source": [
    "args = {'gamma' : 0.9,\n",
    "        'batch_size' : 32,\n",
    "        'input_size' : 2,\n",
    "        'n_actions'  : 3}"
   ]
  },
  {
   "cell_type": "markdown",
   "id": "39c69cfd",
   "metadata": {},
   "source": [
    "# Denição do cérebro"
   ]
  },
  {
   "cell_type": "code",
   "execution_count": null,
   "id": "5edfb4a6",
   "metadata": {},
   "outputs": [],
   "source": []
  },
  {
   "cell_type": "markdown",
   "id": "293a103f",
   "metadata": {},
   "source": [
    "# Geração do jogo"
   ]
  },
  {
   "cell_type": "code",
   "execution_count": 7,
   "id": "25a82f9f",
   "metadata": {},
   "outputs": [],
   "source": [
    "env = gym.make('MountainCar-v0',new_step_api=True)"
   ]
  },
  {
   "cell_type": "code",
   "execution_count": 8,
   "id": "b15f9ccb",
   "metadata": {},
   "outputs": [
    {
     "name": "stdout",
     "output_type": "stream",
     "text": [
      "State space:  Box([-1.2  -0.07], [0.6  0.07], (2,), float32)\n",
      "[-1.2  -0.07]\n",
      "[0.6  0.07]\n"
     ]
    }
   ],
   "source": [
    "print('State space: ', env.observation_space)\n",
    "print(env.observation_space.low)\n",
    "print(env.observation_space.high)"
   ]
  },
  {
   "cell_type": "code",
   "execution_count": 9,
   "id": "908874a2",
   "metadata": {},
   "outputs": [
    {
     "name": "stdout",
     "output_type": "stream",
     "text": [
      "State space:  Discrete(3)\n"
     ]
    }
   ],
   "source": [
    "print('State space: ', env.action_space)"
   ]
  },
  {
   "cell_type": "code",
   "execution_count": 10,
   "id": "0e038c3a",
   "metadata": {},
   "outputs": [],
   "source": [
    "state = env.reset()\n",
    "reward = 0"
   ]
  },
  {
   "cell_type": "code",
   "execution_count": 11,
   "id": "afc680fb",
   "metadata": {},
   "outputs": [],
   "source": [
    "brain = Dqn(2,3,0.9)"
   ]
  },
  {
   "cell_type": "code",
   "execution_count": 12,
   "id": "23285f7d",
   "metadata": {},
   "outputs": [
    {
     "name": "stdout",
     "output_type": "stream",
     "text": [
      "2\n"
     ]
    }
   ],
   "source": [
    "action = brain.update(state,reward)\n",
    "print(action)"
   ]
  },
  {
   "cell_type": "code",
   "execution_count": 13,
   "id": "84c2ef83",
   "metadata": {},
   "outputs": [],
   "source": [
    "class GameRunner:\n",
    "    def __init__(self, model, env, render=False):\n",
    "        self.env = env\n",
    "        self.model = model\n",
    "        self.render = render\n",
    "        self.steps = 0\n",
    "        self.list_steps = []\n",
    "        self.reward_store = []\n",
    "        self.max_x_store = []\n",
    "    def run(self):\n",
    "        state = self.env.reset()\n",
    "        reward = 0\n",
    "        action = self.model.update(state,reward)\n",
    "        tot_reward = 0\n",
    "        max_x = -100\n",
    "        self.list_steps = []\n",
    "        while True:\n",
    "            if self.render:\n",
    "                self.env.render()\n",
    "            self.steps += 1\n",
    "            next_state, reward, done, info, _ = env.step(action)\n",
    "            if next_state[0] >= -0.25:\n",
    "                reward += 1  \n",
    "            elif next_state[0] >= 0.1:\n",
    "                reward += 1\n",
    "            elif next_state[0] >= 0.25:\n",
    "                reward += 1  \n",
    "            elif next_state[0] >= 0.5:\n",
    "                reward += 200\n",
    "            action = self.model.update(next_state,reward)\n",
    "            \n",
    "            if next_state[0] > max_x:\n",
    "                max_x = next_state[0]\n",
    "                #print(max_x)\n",
    "            if max_x > 0.5:\n",
    "                print(\"You Win\")\n",
    "            # is the game complete? If so, set the next state to\n",
    "            # None for storage sake\n",
    "            if done or self.steps > 1000:\n",
    "                next_state = None\n",
    "\n",
    "            # move the agent to the next state and accumulate the reward\n",
    "            state = next_state\n",
    "            tot_reward += reward\n",
    "\n",
    "            # if the game is done, break the loop\n",
    "            if done or self.steps > 1000:\n",
    "                self.reward_store.append(tot_reward)\n",
    "                self.max_x_store.append(max_x)\n",
    "                self.list_steps.append(self.steps)\n",
    "                print(\"Step {}, Total reward: {}, Max: \".format(self.steps, tot_reward,max_x))\n",
    "                if self.steps < 180:\n",
    "                    self.model.save()\n",
    "                self.steps = 0\n",
    "                break"
   ]
  },
  {
   "cell_type": "code",
   "execution_count": 14,
   "id": "a11c71f9",
   "metadata": {},
   "outputs": [
    {
     "name": "stdout",
     "output_type": "stream",
     "text": [
      "Step 1001, Total reward: -602.0, Max: \n",
      "Step 1001, Total reward: -908.0, Max: \n",
      "You Win\n",
      "Step 786, Total reward: -549.0, Max: \n",
      "You Win\n",
      "Step 831, Total reward: -805.0, Max: \n",
      "You Win\n",
      "Step 172, Total reward: -129.0, Max: \n",
      "You Win\n",
      "Step 101, Total reward: -69.0, Max: \n",
      "You Win\n",
      "Step 179, Total reward: -124.0, Max: \n",
      "You Win\n",
      "Step 188, Total reward: -145.0, Max: \n",
      "You Win\n",
      "Step 173, Total reward: -111.0, Max: \n",
      "You Win\n",
      "Step 165, Total reward: -118.0, Max: \n",
      "You Win\n",
      "Step 181, Total reward: -112.0, Max: \n",
      "You Win\n",
      "Step 172, Total reward: -124.0, Max: \n",
      "You Win\n",
      "Step 202, Total reward: -108.0, Max: \n",
      "You Win\n",
      "Step 142, Total reward: -102.0, Max: \n",
      "You Win\n",
      "Step 180, Total reward: -124.0, Max: \n",
      "You Win\n",
      "Step 177, Total reward: -129.0, Max: \n",
      "You Win\n",
      "Step 170, Total reward: -109.0, Max: \n",
      "You Win\n",
      "Step 105, Total reward: -72.0, Max: \n",
      "You Win\n",
      "Step 173, Total reward: -152.0, Max: \n",
      "You Win\n",
      "Step 142, Total reward: -105.0, Max: \n",
      "You Win\n",
      "Step 170, Total reward: -118.0, Max: \n",
      "You Win\n",
      "Step 159, Total reward: -115.0, Max: \n",
      "You Win\n",
      "Step 135, Total reward: -111.0, Max: \n",
      "You Win\n",
      "Step 156, Total reward: -112.0, Max: \n",
      "You Win\n",
      "Step 135, Total reward: -99.0, Max: \n",
      "You Win\n",
      "Step 136, Total reward: -100.0, Max: \n",
      "You Win\n",
      "Step 181, Total reward: -136.0, Max: \n",
      "You Win\n",
      "Step 182, Total reward: -112.0, Max: \n",
      "You Win\n",
      "Step 132, Total reward: -115.0, Max: \n",
      "You Win\n",
      "Step 139, Total reward: -110.0, Max: \n",
      "You Win\n",
      "Step 97, Total reward: -58.0, Max: \n",
      "You Win\n",
      "Step 92, Total reward: -60.0, Max: \n",
      "You Win\n",
      "Step 135, Total reward: -96.0, Max: \n",
      "You Win\n",
      "Step 138, Total reward: -108.0, Max: \n",
      "You Win\n",
      "Step 170, Total reward: -105.0, Max: \n",
      "You Win\n",
      "Step 93, Total reward: -62.0, Max: \n",
      "You Win\n",
      "Step 90, Total reward: -59.0, Max: \n",
      "You Win\n",
      "Step 188, Total reward: -114.0, Max: \n",
      "You Win\n",
      "Step 141, Total reward: -106.0, Max: \n",
      "You Win\n",
      "Step 150, Total reward: -106.0, Max: \n",
      "You Win\n",
      "Step 154, Total reward: -106.0, Max: \n",
      "You Win\n",
      "Step 170, Total reward: -136.0, Max: \n",
      "You Win\n",
      "Step 165, Total reward: -119.0, Max: \n",
      "You Win\n",
      "Step 186, Total reward: -167.0, Max: \n",
      "You Win\n",
      "Step 175, Total reward: -119.0, Max: \n",
      "You Win\n",
      "Step 223, Total reward: -149.0, Max: \n",
      "You Win\n",
      "Step 163, Total reward: -114.0, Max: \n",
      "You Win\n",
      "Step 93, Total reward: -62.0, Max: \n",
      "You Win\n",
      "Step 169, Total reward: -115.0, Max: \n",
      "You Win\n",
      "Step 85, Total reward: -60.0, Max: \n",
      "You Win\n",
      "Step 168, Total reward: -107.0, Max: \n",
      "You Win\n",
      "Step 190, Total reward: -110.0, Max: \n",
      "You Win\n",
      "Step 154, Total reward: -104.0, Max: \n",
      "You Win\n",
      "Step 165, Total reward: -109.0, Max: \n",
      "You Win\n",
      "Step 184, Total reward: -118.0, Max: \n",
      "You Win\n",
      "Step 161, Total reward: -110.0, Max: \n",
      "You Win\n",
      "Step 100, Total reward: -61.0, Max: \n",
      "You Win\n",
      "Step 179, Total reward: -129.0, Max: \n",
      "You Win\n",
      "Step 175, Total reward: -126.0, Max: \n",
      "You Win\n",
      "Step 226, Total reward: -178.0, Max: \n",
      "You Win\n",
      "Step 136, Total reward: -99.0, Max: \n",
      "You Win\n",
      "Step 169, Total reward: -121.0, Max: \n",
      "You Win\n",
      "Step 189, Total reward: -150.0, Max: \n",
      "You Win\n",
      "Step 168, Total reward: -116.0, Max: \n",
      "You Win\n",
      "Step 233, Total reward: -170.0, Max: \n",
      "You Win\n",
      "Step 150, Total reward: -103.0, Max: \n",
      "You Win\n",
      "Step 185, Total reward: -112.0, Max: \n",
      "You Win\n",
      "Step 160, Total reward: -127.0, Max: \n",
      "You Win\n",
      "Step 184, Total reward: -133.0, Max: \n",
      "You Win\n",
      "Step 172, Total reward: -122.0, Max: \n",
      "You Win\n",
      "Step 159, Total reward: -129.0, Max: \n",
      "You Win\n",
      "Step 287, Total reward: -231.0, Max: \n",
      "You Win\n",
      "Step 151, Total reward: -114.0, Max: \n",
      "You Win\n",
      "Step 195, Total reward: -122.0, Max: \n",
      "You Win\n",
      "Step 155, Total reward: -102.0, Max: \n",
      "You Win\n",
      "Step 200, Total reward: -125.0, Max: \n",
      "You Win\n",
      "Step 208, Total reward: -120.0, Max: \n",
      "You Win\n",
      "Step 182, Total reward: -118.0, Max: \n",
      "You Win\n",
      "Step 177, Total reward: -121.0, Max: \n",
      "You Win\n",
      "Step 150, Total reward: -95.0, Max: \n",
      "You Win\n",
      "Step 146, Total reward: -108.0, Max: \n",
      "You Win\n",
      "Step 212, Total reward: -146.0, Max: \n",
      "You Win\n",
      "Step 183, Total reward: -123.0, Max: \n",
      "You Win\n",
      "Step 212, Total reward: -116.0, Max: \n",
      "You Win\n",
      "Step 99, Total reward: -60.0, Max: \n",
      "You Win\n",
      "Step 94, Total reward: -59.0, Max: \n",
      "You Win\n",
      "Step 297, Total reward: -177.0, Max: \n",
      "You Win\n",
      "Step 98, Total reward: -62.0, Max: \n",
      "You Win\n",
      "Step 91, Total reward: -59.0, Max: \n",
      "You Win\n",
      "Step 99, Total reward: -62.0, Max: \n"
     ]
    },
    {
     "ename": "KeyboardInterrupt",
     "evalue": "",
     "output_type": "error",
     "traceback": [
      "\u001b[0;31m---------------------------------------------------------------------------\u001b[0m",
      "\u001b[0;31mKeyboardInterrupt\u001b[0m                         Traceback (most recent call last)",
      "Input \u001b[0;32mIn [14]\u001b[0m, in \u001b[0;36m<cell line: 3>\u001b[0;34m()\u001b[0m\n\u001b[1;32m      2\u001b[0m gr \u001b[38;5;241m=\u001b[39m GameRunner(model \u001b[38;5;241m=\u001b[39m brain,env \u001b[38;5;241m=\u001b[39m env,render\u001b[38;5;241m=\u001b[39m\u001b[38;5;28;01mFalse\u001b[39;00m)\n\u001b[1;32m      3\u001b[0m \u001b[38;5;28;01mfor\u001b[39;00m i \u001b[38;5;129;01min\u001b[39;00m \u001b[38;5;28mrange\u001b[39m(\u001b[38;5;241m20000\u001b[39m):\n\u001b[0;32m----> 4\u001b[0m     \u001b[43mgr\u001b[49m\u001b[38;5;241;43m.\u001b[39;49m\u001b[43mrun\u001b[49m\u001b[43m(\u001b[49m\u001b[43m)\u001b[49m\n",
      "Input \u001b[0;32mIn [13]\u001b[0m, in \u001b[0;36mGameRunner.run\u001b[0;34m(self)\u001b[0m\n\u001b[1;32m     28\u001b[0m \u001b[38;5;28;01melif\u001b[39;00m next_state[\u001b[38;5;241m0\u001b[39m] \u001b[38;5;241m>\u001b[39m\u001b[38;5;241m=\u001b[39m \u001b[38;5;241m0.5\u001b[39m:\n\u001b[1;32m     29\u001b[0m     reward \u001b[38;5;241m+\u001b[39m\u001b[38;5;241m=\u001b[39m \u001b[38;5;241m200\u001b[39m\n\u001b[0;32m---> 30\u001b[0m action \u001b[38;5;241m=\u001b[39m \u001b[38;5;28;43mself\u001b[39;49m\u001b[38;5;241;43m.\u001b[39;49m\u001b[43mmodel\u001b[49m\u001b[38;5;241;43m.\u001b[39;49m\u001b[43mupdate\u001b[49m\u001b[43m(\u001b[49m\u001b[43mnext_state\u001b[49m\u001b[43m,\u001b[49m\u001b[43mreward\u001b[49m\u001b[43m)\u001b[49m\n\u001b[1;32m     32\u001b[0m \u001b[38;5;28;01mif\u001b[39;00m next_state[\u001b[38;5;241m0\u001b[39m] \u001b[38;5;241m>\u001b[39m max_x:\n\u001b[1;32m     33\u001b[0m     max_x \u001b[38;5;241m=\u001b[39m next_state[\u001b[38;5;241m0\u001b[39m]\n",
      "Input \u001b[0;32mIn [5]\u001b[0m, in \u001b[0;36mDqn.update\u001b[0;34m(self, new_state, new_reward)\u001b[0m\n\u001b[1;32m     76\u001b[0m new_action \u001b[38;5;241m=\u001b[39m \u001b[38;5;28mself\u001b[39m\u001b[38;5;241m.\u001b[39mselect_action(new_state)\n\u001b[1;32m     77\u001b[0m \u001b[38;5;28;01mif\u001b[39;00m \u001b[38;5;28mlen\u001b[39m(\u001b[38;5;28mself\u001b[39m\u001b[38;5;241m.\u001b[39mmemory\u001b[38;5;241m.\u001b[39mmemory) \u001b[38;5;241m>\u001b[39m \u001b[38;5;241m100\u001b[39m:\n\u001b[0;32m---> 78\u001b[0m     batch_states, batch_actions, batch_rewards, batch_next_states \u001b[38;5;241m=\u001b[39m \u001b[38;5;28mself\u001b[39m\u001b[38;5;241m.\u001b[39mmemory\u001b[38;5;241m.\u001b[39msample(\u001b[38;5;241m100\u001b[39m)\n\u001b[1;32m     79\u001b[0m     \u001b[38;5;28mself\u001b[39m\u001b[38;5;241m.\u001b[39mlearn(batch_states, batch_actions, batch_rewards, batch_next_states)\n\u001b[1;32m     80\u001b[0m \u001b[38;5;28mself\u001b[39m\u001b[38;5;241m.\u001b[39mlast_state \u001b[38;5;241m=\u001b[39m new_state\n",
      "Input \u001b[0;32mIn [5]\u001b[0m, in \u001b[0;36mReplayMemory.sample.<locals>.<lambda>\u001b[0;34m(x)\u001b[0m\n\u001b[1;32m     42\u001b[0m \u001b[38;5;28;01mdef\u001b[39;00m \u001b[38;5;21msample\u001b[39m(\u001b[38;5;28mself\u001b[39m, batch_size):\n\u001b[1;32m     43\u001b[0m     samples \u001b[38;5;241m=\u001b[39m \u001b[38;5;28mzip\u001b[39m(\u001b[38;5;241m*\u001b[39mrandom\u001b[38;5;241m.\u001b[39msample(\u001b[38;5;28mself\u001b[39m\u001b[38;5;241m.\u001b[39mmemory, batch_size))\n\u001b[0;32m---> 44\u001b[0m     \u001b[38;5;28;01mreturn\u001b[39;00m \u001b[38;5;28mmap\u001b[39m(\u001b[38;5;28;01mlambda\u001b[39;00m x: Variable(\u001b[43mtorch\u001b[49m\u001b[38;5;241;43m.\u001b[39;49m\u001b[43mcat\u001b[49m\u001b[43m(\u001b[49m\u001b[43mx\u001b[49m\u001b[43m,\u001b[49m\u001b[43m \u001b[49m\u001b[38;5;241;43m0\u001b[39;49m\u001b[43m)\u001b[49m), samples)\n",
      "\u001b[0;31mKeyboardInterrupt\u001b[0m: "
     ]
    }
   ],
   "source": [
    "steps = [];\n",
    "gr = GameRunner(model = brain,env = env,render=False)\n",
    "for i in range(20000):\n",
    "    gr.run()"
   ]
  },
  {
   "cell_type": "code",
   "execution_count": null,
   "id": "ae836ac2",
   "metadata": {},
   "outputs": [],
   "source": [
    "plt.plot(gr.max_x_store)"
   ]
  },
  {
   "cell_type": "code",
   "execution_count": null,
   "id": "3fdc6088",
   "metadata": {},
   "outputs": [],
   "source": [
    "plt.plot(gr.list_steps)"
   ]
  },
  {
   "cell_type": "code",
   "execution_count": 15,
   "id": "fd6d6a5f",
   "metadata": {},
   "outputs": [
    {
     "name": "stdout",
     "output_type": "stream",
     "text": [
      "=> loading checkpoint... \n",
      "done !\n"
     ]
    }
   ],
   "source": [
    "brain.load()\n",
    "gr = GameRunner(model = brain,env = env,render=True)"
   ]
  },
  {
   "cell_type": "code",
   "execution_count": 25,
   "id": "63c85413",
   "metadata": {},
   "outputs": [
    {
     "name": "stdout",
     "output_type": "stream",
     "text": [
      "You Win\n",
      "Step 138, Total reward: -87.0, Max: \n"
     ]
    }
   ],
   "source": [
    "gr.run()"
   ]
  },
  {
   "cell_type": "code",
   "execution_count": null,
   "id": "69692f2f",
   "metadata": {},
   "outputs": [],
   "source": []
  }
 ],
 "metadata": {
  "kernelspec": {
   "display_name": "Python 3 (ipykernel)",
   "language": "python",
   "name": "python3"
  },
  "language_info": {
   "codemirror_mode": {
    "name": "ipython",
    "version": 3
   },
   "file_extension": ".py",
   "mimetype": "text/x-python",
   "name": "python",
   "nbconvert_exporter": "python",
   "pygments_lexer": "ipython3",
   "version": "3.9.13"
  }
 },
 "nbformat": 4,
 "nbformat_minor": 5
}
